{
  "nbformat": 4,
  "nbformat_minor": 0,
  "metadata": {
    "colab": {
      "name": "4.ipynb",
      "provenance": [],
      "collapsed_sections": []
    },
    "kernelspec": {
      "name": "python3",
      "display_name": "Python 3"
    },
    "language_info": {
      "name": "python"
    }
  },
  "cells": [
    {
      "cell_type": "code",
      "metadata": {
        "id": "cy31TQIH7vvG"
      },
      "source": [
        "!apt-get install openjdk-11-jdk-headless -qq > /dev/null\n",
        "!wget -q https://bitbucket.org/habedi/datasets/raw/b6769c4664e7ff68b001e2f43bc517888cbe3642/spark/spark-3.0.2-bin-hadoop2.7.tgz\n",
        "!tar xf spark-3.0.2-bin-hadoop2.7.tgz\n",
        "!rm -rf spark-3.0.2-bin-hadoop2.7.tgz*\n",
        "!pip -q install findspark pyspark graphframes"
      ],
      "execution_count": 148,
      "outputs": []
    },
    {
      "cell_type": "code",
      "metadata": {
        "id": "CYlk3FVV7zjq"
      },
      "source": [
        "import os\n",
        "\n",
        "os.environ[\"JAVA_HOME\"] = \"/usr/lib/jvm/java-11-openjdk-amd64\"\n",
        "os.environ[\"SPARK_HOME\"] = \"/content/spark-3.0.2-bin-hadoop2.7\"\n",
        "os.environ[\"HADOOP_HOME\"] = os.environ[\"SPARK_HOME\"]\n",
        "\n",
        "os.environ[\"PYSPARK_DRIVER_PYTHON\"] = \"jupyter\"\n",
        "os.environ[\"PYSPARK_DRIVER_PYTHON_OPTS\"] = \"notebook\"\n",
        "os.environ[\"PYSPARK_SUBMIT_ARGS\"] = \"--packages graphframes:graphframes:0.8.1-spark3.0-s_2.12 pyspark-shell\""
      ],
      "execution_count": 149,
      "outputs": []
    },
    {
      "cell_type": "code",
      "metadata": {
        "id": "PKu53KRM71Wn"
      },
      "source": [
        "import findspark\n",
        "findspark.init()"
      ],
      "execution_count": 150,
      "outputs": []
    },
    {
      "cell_type": "code",
      "metadata": {
        "id": "kU7zvJXw8B3K"
      },
      "source": [
        "from pyspark.sql import SparkSession\n",
        "\n",
        "def init_spark(app_name=\"HelloWorldApp\", execution_mode=\"local[*]\"):\n",
        "  spark = SparkSession.builder.master(execution_mode).appName(app_name).getOrCreate()\n",
        "  sc = spark.sparkContext\n",
        "  return spark, sc"
      ],
      "execution_count": 151,
      "outputs": []
    },
    {
      "cell_type": "code",
      "metadata": {
        "colab": {
          "base_uri": "https://localhost:8080/"
        },
        "id": "-yiGslM9leRR",
        "outputId": "7aabffad-7794-4a3d-c969-e6b06ea43192"
      },
      "source": [
        "def main1():\n",
        "  _, sc = init_spark()\n",
        "  nums = sc.parallelize([1, 2, 3, 4])\n",
        "  print(nums.map(lambda x: x*x).collect())\n",
        "\n",
        "if __name__ == '__main__':\n",
        "  main1()"
      ],
      "execution_count": 198,
      "outputs": [
        {
          "output_type": "stream",
          "text": [
            "[1, 4, 9, 16]\n"
          ],
          "name": "stdout"
        }
      ]
    },
    {
      "cell_type": "code",
      "metadata": {
        "id": "d9J2jWkQTq_0"
      },
      "source": [
        "\n",
        "from graphframes import GraphFrame\n",
        "import pyspark.sql.functions as F \n",
        "\n",
        "df = spark.read.text(\"edges.txt\")\n",
        "split_col = f.split(df['value'], '\t')\n",
        "df = df.withColumn('src', split_col.getItem(0))\n",
        "df = df.withColumn('dst', split_col.getItem(1))\n",
        "edges = df.drop(\"value\")\n",
        "# edges.show()\n",
        "\n",
        "df = spark.read.text(\"Vertex.txt\")\n",
        "split_col = f.split(df['value'], '\t')\n",
        "df = df.withColumn('id', split_col.getItem(0))\n",
        "df = df.withColumn('name', split_col.getItem(1))\n",
        "vertex =  df.drop(\"value\")\n",
        "# g  = GraphFrame(vertex , edges)\n",
        "\n",
        "dstcount =  edges.groupBy(\"dst\").count().select('dst' , F.col('count').alias('degree'))\n",
        "srccount =  edges.groupBy(\"src\").count().select('src' , F.col('count').alias('degree'))\n",
        "\n",
        "\n",
        "\n",
        "dstcount.orderBy('degree' , ascending=False).show()\n",
        "srccount.orderBy('degree' , ascending=False).show()\n",
        "\n"
      ],
      "execution_count": null,
      "outputs": []
    },
    {
      "cell_type": "code",
      "metadata": {
        "id": "_brBG1x4yGki"
      },
      "source": [
        "CC = g.connectedComponents()\n",
        "CC.select(\"id\", \"component\").orderBy(\"component\").show()\n"
      ],
      "execution_count": null,
      "outputs": []
    },
    {
      "cell_type": "code",
      "metadata": {
        "colab": {
          "base_uri": "https://localhost:8080/"
        },
        "id": "X2yoZUQejRG_",
        "outputId": "ff91abc3-4ecd-49d0-a4fc-2d4bfaa025f3"
      },
      "source": [
        "\n",
        "bestarticle = dstcount.orderBy('degree' , ascending=False)\n",
        "joinresult = bestarticle.join(vertex,vertex.id ==  bestarticle.dst,\"inner\")\n",
        "joinresult.orderBy('degree' , ascending=False).show()\n"
      ],
      "execution_count": 197,
      "outputs": [
        {
          "output_type": "stream",
          "text": [
            "+-------------------+------+-------------------+--------------------+\n",
            "|                dst|degree|                 id|                name|\n",
            "+-------------------+------+-------------------+--------------------+\n",
            "| 946065507707541358|   327| 946065507707541358| The Football League|\n",
            "|3856212023725725593|   322|3856212023725725593|National Football...|\n",
            "|8978262722425160811|   316|8978262722425160811|Australian Footba...|\n",
            "|6245498229508734555|   185|6245498229508734555|Southern Football...|\n",
            "|7264519433548233535|   180|7264519433548233535|Football League F...|\n",
            "|5362090331808156011|   179|5362090331808156011|Football League S...|\n",
            "| 277710621679830671|   149| 277710621679830671|All-Ireland Senio...|\n",
            "|1984578398767042266|   145|1984578398767042266|Scottish Football...|\n",
            "|2395551540800395672|   134|2395551540800395672|Football League T...|\n",
            "|5395033957924805072|   130|5395033957924805072|Pro Football Hall...|\n",
            "|4254821691068011447|   119|4254821691068011447| Football League Two|\n",
            "|7050959159375889025|   116|7050959159375889025|Carlton Football ...|\n",
            "|3282427710539568335|   115|3282427710539568335|Western Football ...|\n",
            "|4512002392249809415|   115|4512002392249809415|American Football...|\n",
            "|4254821691068016541|   113|4254821691068016541| Football League One|\n",
            "|4254821691068027845|   107|4254821691068027845| Football League Cup|\n",
            "|6623304200448015171|   105|6623304200448015171|Essendon Football...|\n",
            "|2625575280669536231|   104|2625575280669536231|Collingwood Footb...|\n",
            "| 330493081995023431|   102| 330493081995023431|Melbourne Footbal...|\n",
            "|6908101889982380382|   102|6908101889982380382|The Football Asso...|\n",
            "+-------------------+------+-------------------+--------------------+\n",
            "only showing top 20 rows\n",
            "\n"
          ],
          "name": "stdout"
        }
      ]
    }
  ]
}