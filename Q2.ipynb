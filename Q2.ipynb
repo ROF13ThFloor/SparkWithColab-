{
  "nbformat": 4,
  "nbformat_minor": 0,
  "metadata": {
    "colab": {
      "name": "2.ipynb",
      "provenance": [],
      "collapsed_sections": []
    },
    "kernelspec": {
      "name": "python3",
      "display_name": "Python 3"
    },
    "language_info": {
      "name": "python"
    }
  },
  "cells": [
    {
      "cell_type": "code",
      "metadata": {
        "id": "cy31TQIH7vvG"
      },
      "source": [
        "!apt-get install openjdk-11-jdk-headless -qq > /dev/null\n",
        "!wget -q https://bitbucket.org/habedi/datasets/raw/b6769c4664e7ff68b001e2f43bc517888cbe3642/spark/spark-3.0.2-bin-hadoop2.7.tgz\n",
        "!tar xf spark-3.0.2-bin-hadoop2.7.tgz\n",
        "!rm -rf spark-3.0.2-bin-hadoop2.7.tgz*\n",
        "!pip -q install findspark pyspark graphframes"
      ],
      "execution_count": null,
      "outputs": []
    },
    {
      "cell_type": "code",
      "metadata": {
        "id": "CYlk3FVV7zjq"
      },
      "source": [
        "import os\n",
        "\n",
        "os.environ[\"JAVA_HOME\"] = \"/usr/lib/jvm/java-11-openjdk-amd64\"\n",
        "os.environ[\"SPARK_HOME\"] = \"/content/spark-3.0.2-bin-hadoop2.7\"\n",
        "os.environ[\"HADOOP_HOME\"] = os.environ[\"SPARK_HOME\"]\n",
        "\n",
        "os.environ[\"PYSPARK_DRIVER_PYTHON\"] = \"jupyter\"\n",
        "os.environ[\"PYSPARK_DRIVER_PYTHON_OPTS\"] = \"notebook\"\n",
        "os.environ[\"PYSPARK_SUBMIT_ARGS\"] = \"--packages graphframes:graphframes:0.8.1-spark3.0-s_2.12 pyspark-shell\""
      ],
      "execution_count": null,
      "outputs": []
    },
    {
      "cell_type": "code",
      "metadata": {
        "id": "PKu53KRM71Wn"
      },
      "source": [
        "import findspark\n",
        "findspark.init()"
      ],
      "execution_count": null,
      "outputs": []
    },
    {
      "cell_type": "code",
      "metadata": {
        "id": "kU7zvJXw8B3K"
      },
      "source": [
        "from pyspark.sql import SparkSession\n",
        "\n",
        "def init_spark(app_name=\"HelloWorldApp\", execution_mode=\"local[*]\"):\n",
        "  spark = SparkSession.builder.master(execution_mode).appName(app_name).getOrCreate()\n",
        "  sc = spark.sparkContext\n",
        "  return spark, sc"
      ],
      "execution_count": null,
      "outputs": []
    },
    {
      "cell_type": "code",
      "metadata": {
        "colab": {
          "base_uri": "https://localhost:8080/"
        },
        "id": "-yiGslM9leRR",
        "outputId": "7aabffad-7794-4a3d-c969-e6b06ea43192"
      },
      "source": [
        "def main1():\n",
        "  _, sc = init_spark()\n",
        "  nums = sc.parallelize([1, 2, 3, 4])\n",
        "  print(nums.map(lambda x: x*x).collect())\n",
        "\n",
        "if __name__ == '__main__':\n",
        "  main1()"
      ],
      "execution_count": null,
      "outputs": [
        {
          "output_type": "stream",
          "text": [
            "[1, 4, 9, 16]\n"
          ],
          "name": "stdout"
        }
      ]
    },
    {
      "cell_type": "code",
      "metadata": {
        "id": "d9J2jWkQTq_0",
        "colab": {
          "base_uri": "https://localhost:8080/"
        },
        "outputId": "130b5751-4b65-4b67-e01b-b38456ed3041"
      },
      "source": [
        "\n",
        "import pyspark.sql.functions as F \n",
        "\n",
        "df = spark.read.text(\"Log\")\n",
        "split_col = f.split(df['value'], ' ')\n",
        "df = df.withColumn('address', split_col.getItem(0))\n",
        "df2 = df.drop(\"value\")\n",
        "df2.show()\n",
        "hostcount =  df2.groupBy(\"address\").count().select('address' , F.col('count').alias('F'))\n",
        "hs = hostcount.orderBy('F' , ascending=False)\n",
        "print(hostcount.count())\n",
        "\n",
        "\n"
      ],
      "execution_count": 247,
      "outputs": [
        {
          "output_type": "stream",
          "text": [
            "+--------------------+\n",
            "|             address|\n",
            "+--------------------+\n",
            "|        199.72.81.55|\n",
            "|unicomp6.unicomp.net|\n",
            "|      199.120.110.21|\n",
            "|  burger.letters.com|\n",
            "|      199.120.110.21|\n",
            "|  burger.letters.com|\n",
            "|  burger.letters.com|\n",
            "|     205.212.115.106|\n",
            "|         d104.aa.net|\n",
            "|      129.94.144.152|\n",
            "|unicomp6.unicomp.net|\n",
            "|unicomp6.unicomp.net|\n",
            "|unicomp6.unicomp.net|\n",
            "|         d104.aa.net|\n",
            "|         d104.aa.net|\n",
            "|         d104.aa.net|\n",
            "|      129.94.144.152|\n",
            "|      199.120.110.21|\n",
            "|ppptky391.asahi-n...|\n",
            "|  net-1-141.eden.com|\n",
            "+--------------------+\n",
            "only showing top 20 rows\n",
            "\n",
            "+--------------------+-----+\n",
            "|             address|    F|\n",
            "+--------------------+-----+\n",
            "|piweba3y.prodigy.com|17609|\n",
            "|piweba4y.prodigy.com|11676|\n",
            "|piweba1y.prodigy.com| 9879|\n",
            "|  alyssa.prodigy.com| 7880|\n",
            "| siltb10.orl.mmc.com| 7573|\n",
            "|piweba2y.prodigy.com| 5936|\n",
            "|  edams.ksc.nasa.gov| 5458|\n",
            "|        163.206.89.4| 4906|\n",
            "|         news.ti.com| 4881|\n",
            "|disarray.demon.co.uk| 4486|\n",
            "|   poppy.hensa.ac.uk| 4327|\n",
            "|www-d1.proxy.aol.com| 4200|\n",
            "|www-a2.proxy.aol.com| 4199|\n",
            "|  vagrant.vf.mmc.com| 4146|\n",
            "|       198.133.29.18| 4136|\n",
            "|www-d4.proxy.aol.com| 3981|\n",
            "|    webgate1.mot.com| 3843|\n",
            "|www-b3.proxy.aol.com| 3766|\n",
            "|  e659229.boeing.com| 3737|\n",
            "|www-b2.proxy.aol.com| 3734|\n",
            "+--------------------+-----+\n",
            "only showing top 20 rows\n",
            "\n",
            "81984\n"
          ],
          "name": "stdout"
        }
      ]
    },
    {
      "cell_type": "code",
      "metadata": {
        "colab": {
          "base_uri": "https://localhost:8080/"
        },
        "id": "iH7W0MVT4W84",
        "outputId": "8ade5c5a-e2fa-454f-aa22-f8fabe806008"
      },
      "source": [
        "import pyspark.sql.functions as F \n",
        "from pyspark.sql.functions import count, avg\n",
        "\n",
        "\n",
        "df = df.withColumn('time', split_col.getItem(3))\n",
        "df2 = df.drop(\"value\")\n",
        "# df2.show()\n",
        "spli = f.split(df2['time'], ':')\n",
        "df2 = df.withColumn('day', spli.getItem(0))\n",
        "\n",
        "df3 = df2.drop(\"value\")\n",
        "df3 = df3.drop(\"time\")\n",
        "hostdayinoutcount =  df3.groupBy(\"address\", \"day\").count().select('address' , 'day' , F.col('count').alias('Frequency'))\n",
        "hostdayinoutcount.orderBy('address' , ascending=True).show()\n",
        "\n",
        "# df3.show()"
      ],
      "execution_count": 236,
      "outputs": [
        {
          "output_type": "stream",
          "text": [
            "+--------------------+------------+---------+\n",
            "|             address|         day|Frequency|\n",
            "+--------------------+------------+---------+\n",
            "|         ***.novo.dk|[11/Jul/1995|       16|\n",
            "|      007.thegap.com|[06/Jul/1995|       30|\n",
            "|      007.thegap.com|[09/Jul/1995|       11|\n",
            "|      007.thegap.com|[23/Jul/1995|        4|\n",
            "|01-dynamic-c.rott...|[28/Jul/1995|        1|\n",
            "|01-dynamic-c.woki...|[05/Jul/1995|        3|\n",
            "|01-dynamic-c.woki...|[27/Jul/1995|        9|\n",
            "|01-dynamic-c.woki...|[10/Jul/1995|       11|\n",
            "|01-dynamic-c.woki...|[12/Jul/1995|        5|\n",
            "|02-dynamic-c.woki...|[27/Jul/1995|        4|\n",
            "|02-dynamic-c.woki...|[07/Jul/1995|        9|\n",
            "|03-dynamic-c.woki...|[04/Jul/1995|       12|\n",
            "|03-dynamic-c.woki...|[20/Jul/1995|        3|\n",
            "|04-dynamic-c.rott...|[03/Jul/1995|       22|\n",
            "|04-dynamic-c.woki...|[04/Jul/1995|       28|\n",
            "|05-dynamic-c.rott...|[06/Jul/1995|       12|\n",
            "|05-dynamic-c.rott...|[05/Jul/1995|       14|\n",
            "|05-dynamic-c.woki...|[15/Jul/1995|        9|\n",
            "|06-dynamic-c.rott...|[14/Jul/1995|       11|\n",
            "|06-dynamic-c.rott...|[04/Jul/1995|       10|\n",
            "+--------------------+------------+---------+\n",
            "only showing top 20 rows\n",
            "\n"
          ],
          "name": "stdout"
        }
      ]
    },
    {
      "cell_type": "code",
      "metadata": {
        "colab": {
          "base_uri": "https://localhost:8080/"
        },
        "id": "5HJSz9Ih_4cv",
        "outputId": "1090c382-a70f-4608-fa38-0531ec366565"
      },
      "source": [
        "# df.show()\n",
        "df = df.drop(\"time\")\n",
        "df = df.drop(\"address\")\n",
        "# df.show()\n",
        "df2 = df.filter(df.value.like('%.gif%'))\n",
        "print(df2.count())"
      ],
      "execution_count": 245,
      "outputs": [
        {
          "output_type": "stream",
          "text": [
            "1034638\n"
          ],
          "name": "stdout"
        }
      ]
    },
    {
      "cell_type": "code",
      "metadata": {
        "colab": {
          "base_uri": "https://localhost:8080/"
        },
        "id": "3N_tvO3bB75E",
        "outputId": "5ad3685a-dd7e-4df8-d364-5e9c34821196"
      },
      "source": [
        "hs = hostcount.orderBy('F' , ascending=True)\n",
        "df = hs.filter(\"F > 3 and\")\n",
        "expr = \"^((?!-)[A-Za-z0-9-]{1,63}(?<!-)\\\\.)+[A-Za-z]{2,6}$\"\n",
        "dk = df.filter(df[\"address\"].rlike(expr))\n",
        "\n",
        "dk.show()"
      ],
      "execution_count": 257,
      "outputs": [
        {
          "output_type": "stream",
          "text": [
            "+--------------------+---+\n",
            "|             address|  F|\n",
            "+--------------------+---+\n",
            "|hwwmac.larc.nasa.gov|  4|\n",
            "| braemar.demon.co.uk|  4|\n",
            "|berlin.vas.viewlo...|  4|\n",
            "|dr4umac1.med.virg...|  4|\n",
            "| scorch.doc.ic.ac.uk|  4|\n",
            "|blv-pm1-ip9.halcy...|  4|\n",
            "| dram.cmu.susx.ac.uk|  4|\n",
            "|mac12.bnf23.ulava...|  4|\n",
            "|  guest7.cni.mid.net|  4|\n",
            "|   bend6.bendnet.com|  4|\n",
            "|ix-sj12-17.ix.net...|  4|\n",
            "|n113.solano.commu...|  4|\n",
            "|ix-lv4-04.ix.netc...|  4|\n",
            "|    dwkm107.usa1.com|  4|\n",
            "|      lom000.wwa.com|  4|\n",
            "|annex-v32bis-47.s...|  4|\n",
            "|cust46.max1.ffx1....|  4|\n",
            "|ix-phi1-01.ix.net...|  4|\n",
            "|   mufasa.ee.pdx.edu|  4|\n",
            "|ppp1-06.inre.asu.edu|  4|\n",
            "+--------------------+---+\n",
            "only showing top 20 rows\n",
            "\n"
          ],
          "name": "stdout"
        }
      ]
    },
    {
      "cell_type": "code",
      "metadata": {
        "colab": {
          "base_uri": "https://localhost:8080/"
        },
        "id": "nzVv9rH-DFR4",
        "outputId": "e6b4b315-0d1d-475c-8984-e7571e9de0e1"
      },
      "source": [
        "df = spark.read.text(\"Log\")\n",
        "split_col = f.split(df['value'], '\"')\n",
        "df = df.withColumn('statusbebad', split_col.getItem(2))\n",
        "df2 = df.drop(\"value\")\n",
        "split_col2 = f.split(df['statusbebad'], ' ')\n",
        "df2 = df2.withColumn('status code', split_col2.getItem(1))\n",
        "df2 = df2.drop(\"statusbebad\")\n",
        "\n",
        "# df2.show()\n",
        "\n",
        "# df2.show()\n",
        "statuscount =  df2.groupBy(\"status code\").count().select('status code'  , F.col('count').alias('Frequency'))\n",
        "statuscount.orderBy('Frequency' , ascending=False).show(5)\n"
      ],
      "execution_count": 278,
      "outputs": [
        {
          "output_type": "stream",
          "text": [
            "+-----------+---------+\n",
            "|status code|Frequency|\n",
            "+-----------+---------+\n",
            "|        200|  1709982|\n",
            "|        304|   133349|\n",
            "|        302|    46925|\n",
            "|        404|    10878|\n",
            "|        500|       62|\n",
            "+-----------+---------+\n",
            "only showing top 5 rows\n",
            "\n"
          ],
          "name": "stdout"
        }
      ]
    }
  ]
}